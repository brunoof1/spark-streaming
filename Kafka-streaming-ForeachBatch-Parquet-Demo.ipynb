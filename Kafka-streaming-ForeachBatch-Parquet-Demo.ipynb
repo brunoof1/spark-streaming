{
 "cells": [
  {
   "cell_type": "markdown",
   "metadata": {},
   "source": [
    "# Operations on Streaming Dataframes/Datasets Demo"
   ]
  },
  {
   "cell_type": "markdown",
   "metadata": {},
   "source": [
    "### Demo"
   ]
  },
  {
   "cell_type": "code",
   "execution_count": 1,
   "metadata": {},
   "outputs": [],
   "source": [
    "import findspark\n",
    "findspark.init('/home/brunosouza/Documents/spark')"
   ]
  },
  {
   "cell_type": "code",
   "execution_count": 2,
   "metadata": {},
   "outputs": [],
   "source": [
    "from pyspark.sql.types import StructType\n",
    "userSchema = StructType().add(\"userA\",\"string\")\\\n",
    "                         .add(\"userB\",\"string\")\\\n",
    "                         .add(\"timestamp\",\"timestamp\")\\\n",
    "                         .add(\"interaction\",\"string\")"
   ]
  },
  {
   "cell_type": "code",
   "execution_count": 3,
   "metadata": {},
   "outputs": [],
   "source": [
    "import sys\n",
    "\n",
    "from pyspark.sql import SparkSession\n",
    "from pyspark.sql.functions import explode, current_timestamp\n",
    "from pyspark.sql.functions import split\n",
    "from pyspark.sql.functions import window\n",
    "from pyspark.sql.types import StructType, TimestampType"
   ]
  },
  {
   "cell_type": "code",
   "execution_count": 4,
   "metadata": {},
   "outputs": [],
   "source": [
    "staging_dir = 'monitoring_data'"
   ]
  },
  {
   "cell_type": "code",
   "execution_count": 5,
   "metadata": {},
   "outputs": [],
   "source": [
    "spark = SparkSession\\\n",
    "            .builder\\\n",
    "            .appName(\"UserInteractionAnalyzer\")\\\n",
    "            .getOrCreate()"
   ]
  },
  {
   "cell_type": "code",
   "execution_count": 6,
   "metadata": {},
   "outputs": [],
   "source": [
    "# Read all the csv files written atomically in a directory\n",
    "# The schema is as follows:\n",
    "# userA, userB, timestamp, interaction\n",
    "userSchema = StructType()\\\n",
    "              .add(\"userA\", \"integer\")\\\n",
    "              .add(\"userB\", \"integer\")\\\n",
    "              .add(\"timestamp\", TimestampType())\\\n",
    "              .add(\"interaction\", \"string\")"
   ]
  },
  {
   "cell_type": "code",
   "execution_count": 7,
   "metadata": {},
   "outputs": [],
   "source": [
    "activity = spark\\\n",
    "             .readStream\\\n",
    "             .option(\"sep\", \",\")\\\n",
    "             .schema(userSchema)\\\n",
    "             .csv(staging_dir+\"/*.csv\")"
   ]
  },
  {
   "cell_type": "code",
   "execution_count": 8,
   "metadata": {},
   "outputs": [],
   "source": [
    "wordCounts = activity\\\n",
    "                .select(\"userB\")\\\n",
    "                .where(\"interaction = \\\"MT\\\"\")"
   ]
  },
  {
   "cell_type": "code",
   "execution_count": 9,
   "metadata": {},
   "outputs": [],
   "source": [
    "def udf_batch_csv_save(df, epoch_id):\n",
    "    df.write.format('csv').save(staging_dir+\"/CSVout\")\n",
    "    pass"
   ]
  },
  {
   "cell_type": "code",
   "execution_count": 10,
   "metadata": {},
   "outputs": [],
   "source": [
    "def udf_batch_parquet_save(df, epoch_id):\n",
    "    df.write.parquet(staging_dir+\"/PARQUETout\")\n",
    "    pass"
   ]
  },
  {
   "cell_type": "code",
   "execution_count": null,
   "metadata": {},
   "outputs": [],
   "source": [
    "# query = wordCounts\\\n",
    "#           .writeStream.trigger(processingTime='10 seconds')\\\n",
    "#           .format(\"parquet\")\\\n",
    "#           .option(\"checkpointLocation\", \"applicationHistory\") \\\n",
    "#           .option(\"path\",staging_dir+\"/out\")\\\n",
    "#           .start()\n",
    "\n",
    "query1 = wordCounts\\\n",
    "          .writeStream\\\n",
    "          .trigger(processingTime='10 seconds')\\\n",
    "          .option(\"checkpointLocation\", \"applicationHistory\")\\\n",
    "          .foreachBatch(udf_batch_csv_save)\\\n",
    "          .foreachBatch(udf_batch_parquet_save)\\\n",
    "          .start()\n",
    "\n",
    "query2 = wordCounts\\\n",
    "          .writeStream\\\n",
    "          .trigger(processingTime='10 seconds')\\\n",
    "          .format(\"console\")\\\n",
    "          .start()\n",
    "\n",
    "query1.awaitTermination()\n",
    "# spark.sql(\"select * from aggregates\").show()   # interactively query in-memory table"
   ]
  },
  {
   "cell_type": "markdown",
   "metadata": {},
   "source": [
    " "
   ]
  }
 ],
 "metadata": {
  "kernelspec": {
   "display_name": "Python 3",
   "language": "python",
   "name": "python3"
  },
  "language_info": {
   "codemirror_mode": {
    "name": "ipython",
    "version": 3
   },
   "file_extension": ".py",
   "mimetype": "text/x-python",
   "name": "python",
   "nbconvert_exporter": "python",
   "pygments_lexer": "ipython3",
   "version": "3.6.9"
  }
 },
 "nbformat": 4,
 "nbformat_minor": 2
}
